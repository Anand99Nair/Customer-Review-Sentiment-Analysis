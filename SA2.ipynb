{
 "cells": [
  {
   "cell_type": "code",
   "execution_count": 1,
   "id": "b46487a6-f55b-4572-bc47-c758df82d57a",
   "metadata": {},
   "outputs": [],
   "source": [
    "import pandas as pd\n",
    "import nltk\n",
    "import re\n",
    "from nltk.corpus import stopwords\n",
    "from nltk.sentiment import SentimentIntensityAnalyzer"
   ]
  },
  {
   "cell_type": "code",
   "execution_count": 2,
   "id": "6c973b01-c35b-40b9-a50d-89cccd034948",
   "metadata": {},
   "outputs": [],
   "source": [
    "# Download required NLTK resources\n",
    "# nltk.download('vader_lexicon')\n",
    "# nltk.download('stopwords')\n",
    "stop_words = set(stopwords.words('english'))"
   ]
  },
  {
   "cell_type": "code",
   "execution_count": 3,
   "id": "0ccac522-b26a-44e5-991a-92cabcfe170d",
   "metadata": {},
   "outputs": [
    {
     "data": {
      "text/html": [
       "<div>\n",
       "<style scoped>\n",
       "    .dataframe tbody tr th:only-of-type {\n",
       "        vertical-align: middle;\n",
       "    }\n",
       "\n",
       "    .dataframe tbody tr th {\n",
       "        vertical-align: top;\n",
       "    }\n",
       "\n",
       "    .dataframe thead th {\n",
       "        text-align: right;\n",
       "    }\n",
       "</style>\n",
       "<table border=\"1\" class=\"dataframe\">\n",
       "  <thead>\n",
       "    <tr style=\"text-align: right;\">\n",
       "      <th></th>\n",
       "      <th>Product Link</th>\n",
       "      <th>Rating</th>\n",
       "      <th>Review Title</th>\n",
       "      <th>Review Comment</th>\n",
       "    </tr>\n",
       "  </thead>\n",
       "  <tbody>\n",
       "    <tr>\n",
       "      <th>0</th>\n",
       "      <td>https://www.flipkart.com/apple-iphone-16-pro-w...</td>\n",
       "      <td>5</td>\n",
       "      <td>Classy product</td>\n",
       "      <td>Awesome and superb!\\nUpgraded from iPhone 12 t...</td>\n",
       "    </tr>\n",
       "    <tr>\n",
       "      <th>1</th>\n",
       "      <td>https://www.flipkart.com/apple-iphone-16-pro-w...</td>\n",
       "      <td>5</td>\n",
       "      <td>Great product</td>\n",
       "      <td>Loved it best in the market . You should go fo...</td>\n",
       "    </tr>\n",
       "    <tr>\n",
       "      <th>2</th>\n",
       "      <td>https://www.flipkart.com/apple-iphone-16-pro-w...</td>\n",
       "      <td>5</td>\n",
       "      <td>Just wow!</td>\n",
       "      <td>Awesome iPhone. Good upgrade from iPhone 13. L...</td>\n",
       "    </tr>\n",
       "    <tr>\n",
       "      <th>3</th>\n",
       "      <td>https://www.flipkart.com/apple-iphone-16-pro-w...</td>\n",
       "      <td>5</td>\n",
       "      <td>Classy product</td>\n",
       "      <td>Best product i will upgrade from 15 to 16 pro ...</td>\n",
       "    </tr>\n",
       "    <tr>\n",
       "      <th>4</th>\n",
       "      <td>https://www.flipkart.com/apple-iphone-16-pro-w...</td>\n",
       "      <td>5</td>\n",
       "      <td>Simply awesome</td>\n",
       "      <td>Overall best flagship phone in the market..hig...</td>\n",
       "    </tr>\n",
       "  </tbody>\n",
       "</table>\n",
       "</div>"
      ],
      "text/plain": [
       "                                        Product Link  Rating    Review Title  \\\n",
       "0  https://www.flipkart.com/apple-iphone-16-pro-w...       5  Classy product   \n",
       "1  https://www.flipkart.com/apple-iphone-16-pro-w...       5   Great product   \n",
       "2  https://www.flipkart.com/apple-iphone-16-pro-w...       5       Just wow!   \n",
       "3  https://www.flipkart.com/apple-iphone-16-pro-w...       5  Classy product   \n",
       "4  https://www.flipkart.com/apple-iphone-16-pro-w...       5  Simply awesome   \n",
       "\n",
       "                                      Review Comment  \n",
       "0  Awesome and superb!\\nUpgraded from iPhone 12 t...  \n",
       "1  Loved it best in the market . You should go fo...  \n",
       "2  Awesome iPhone. Good upgrade from iPhone 13. L...  \n",
       "3  Best product i will upgrade from 15 to 16 pro ...  \n",
       "4  Overall best flagship phone in the market..hig...  "
      ]
     },
     "execution_count": 3,
     "metadata": {},
     "output_type": "execute_result"
    }
   ],
   "source": [
    "# Load Data\n",
    "df = pd.read_csv(\"flipkart_all_reviews.csv\")\n",
    "\n",
    "df.head()"
   ]
  },
  {
   "cell_type": "code",
   "execution_count": 4,
   "id": "dfd153dd-ea60-417a-be71-b90d2e4f4451",
   "metadata": {},
   "outputs": [],
   "source": [
    "def extract_product_name(url):\n",
    "    if pd.isna(url) or not isinstance(url, str):\n",
    "        return \"Unknown Product\"\n",
    "    match = re.search(r\"/([a-zA-Z0-9-]+)(?:/p/|/product-reviews/)\", url)\n",
    "    if match:\n",
    "        return match.group(1).replace(\"-\", \" \").title()\n",
    "    return \"Unknown Product\"\n",
    "\n",
    "df[\"Product Name\"] = df[\"Product Link\"].apply(extract_product_name)\n"
   ]
  },
  {
   "cell_type": "code",
   "execution_count": 5,
   "id": "a8724383-15c1-429f-82a1-87c937b988c3",
   "metadata": {},
   "outputs": [],
   "source": [
    "# Text Cleaning Function\n",
    "def clean_text(text):\n",
    "    if pd.isna(text):  # Handle NaN values\n",
    "        return \"\"\n",
    "    text = text.lower()  # Convert to lowercase\n",
    "    text = re.sub(r'[^a-zA-Z0-9\\s]', '', text)  # Remove special characters\n",
    "    words = text.split()\n",
    "    words = [word for word in words if word not in stop_words]  # Remove stopwords\n",
    "    return \" \".join(words)"
   ]
  },
  {
   "cell_type": "code",
   "execution_count": 6,
   "id": "3e466f02-1b10-4262-95d7-19d988bb5407",
   "metadata": {},
   "outputs": [],
   "source": [
    "# Apply text cleaning\n",
    "df[\"Cleaned_Review\"] = df[\"Review Comment\"].astype(str).apply(clean_text)"
   ]
  },
  {
   "cell_type": "code",
   "execution_count": 7,
   "id": "3e13cd8e-b317-4e35-9fbe-4b5e028692dc",
   "metadata": {},
   "outputs": [],
   "source": [
    "# Initialize Sentiment Analyzer\n",
    "sia = SentimentIntensityAnalyzer()"
   ]
  },
  {
   "cell_type": "code",
   "execution_count": 8,
   "id": "76f374b4-95a6-4bd4-88d9-3f37ad7ea2f0",
   "metadata": {},
   "outputs": [],
   "source": [
    "# Function to get sentiment scores\n",
    "def get_sentiment(text):\n",
    "    score = sia.polarity_scores(text)[\"compound\"]  # Compound sentiment score\n",
    "    if score >= 0.05:\n",
    "        return \"Positive\"\n",
    "    elif score <= -0.05:\n",
    "        return \"Negative\"\n",
    "    else:\n",
    "        return \"Neutral\""
   ]
  },
  {
   "cell_type": "code",
   "execution_count": 9,
   "id": "fa0390cd-a146-421c-8759-1095653440e5",
   "metadata": {},
   "outputs": [],
   "source": [
    "# Apply sentiment analysis\n",
    "df[\"Sentiment\"] = df[\"Cleaned_Review\"].apply(get_sentiment)"
   ]
  },
  {
   "cell_type": "code",
   "execution_count": 10,
   "id": "5bda1f6c-08d7-444d-81e1-677c95ce7719",
   "metadata": {},
   "outputs": [
    {
     "name": "stdout",
     "output_type": "stream",
     "text": [
      "Sentiment analysis completed! Cleaned results saved in: flipkart_vader_sentiment_cleaned.csv\n"
     ]
    }
   ],
   "source": [
    "# Save updated dataset\n",
    "output_file = \"flipkart_vader_sentiment_cleaned.csv\"\n",
    "df.to_csv(output_file, index=False)\n",
    "\n",
    "print(f\"Sentiment analysis completed! Cleaned results saved in: {output_file}\")"
   ]
  },
  {
   "cell_type": "code",
   "execution_count": null,
   "id": "1324e671-fc05-4997-a0c9-9d855a2597ce",
   "metadata": {},
   "outputs": [],
   "source": []
  }
 ],
 "metadata": {
  "kernelspec": {
   "display_name": "Python 3 (ipykernel)",
   "language": "python",
   "name": "python3"
  },
  "language_info": {
   "codemirror_mode": {
    "name": "ipython",
    "version": 3
   },
   "file_extension": ".py",
   "mimetype": "text/x-python",
   "name": "python",
   "nbconvert_exporter": "python",
   "pygments_lexer": "ipython3",
   "version": "3.11.8"
  }
 },
 "nbformat": 4,
 "nbformat_minor": 5
}
